{
 "cells": [
  {
   "cell_type": "markdown",
   "id": "82ba79aa",
   "metadata": {},
   "source": [
    "# ML Project Starter Notebook\n",
    "\n",
    "This notebook demonstrates a basic workflow for your machine learning project. You can use it as a template to build and test your code interactively in VS Code."
   ]
  },
  {
   "cell_type": "code",
   "execution_count": null,
   "id": "0b364da2",
   "metadata": {},
   "outputs": [],
   "source": [
    "# Import Required Libraries\n",
    "import pandas as pd\n",
    "import numpy as np\n",
    "import seaborn as sns"
   ]
  },
  {
   "cell_type": "code",
   "execution_count": null,
   "id": "835a00a3",
   "metadata": {},
   "outputs": [],
   "source": [
    "# Define the Task Function\n",
    "def create_sample_dataframe():\n",
    "    \"\"\"Create a simple pandas DataFrame for demonstration.\"\"\"\n",
    "    data = {\n",
    "        'A': np.random.randint(1, 10, 5),\n",
    "        'B': np.random.randn(5)\n",
    "    }\n",
    "    return pd.DataFrame(data)"
   ]
  },
  {
   "cell_type": "code",
   "execution_count": null,
   "id": "4ba77a7e",
   "metadata": {},
   "outputs": [],
   "source": [
    "# Execute the Task\n",
    "df = create_sample_dataframe()"
   ]
  },
  {
   "cell_type": "code",
   "execution_count": null,
   "id": "d3128877",
   "metadata": {},
   "outputs": [],
   "source": [
    "# Display the Results\n",
    "display(df)\n",
    "sns.barplot(x='A', y='B', data=df)"
   ]
  },
  {
   "cell_type": "markdown",
   "id": "83ff36a4",
   "metadata": {},
   "source": [
    "## Next Steps\n",
    "- Add more code cells to explore your data or build models.\n",
    "- Use markdown cells for notes and documentation.\n",
    "- Save your notebook to keep track of your experiments."
   ]
  }
 ],
 "metadata": {
  "language_info": {
   "name": "python"
  }
 },
 "nbformat": 4,
 "nbformat_minor": 5
}
